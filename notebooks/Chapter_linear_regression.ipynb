{
  "cells": [
    {
      "cell_type": "markdown",
      "metadata": {
        "id": "Qlp8TMCwqzju"
      },
      "source": [
        "# 線形回帰\n",
        "\n",
        "この章では、前章の単回帰を拡張した線形回帰について解説する。\n",
        "\n",
        "最も単純な線形回帰は、\n",
        "\n",
        "$$\n",
        "y(\\boldsymbol{x}, \\boldsymbol{w}) = w_0 + w_1 x + w_2 x^2 + \\cdots + w_M x^M = \\sum_{j=0}^M w_j x^j\n",
        "$$\n",
        "\n",
        "による多項式回帰である。ここで、$x$は入力変数、$y$は出力変数、$w$はパラメータ、$M$は多項式の次数である。\n",
        "線形回帰(Linear Regression)はしばし、この多項式回帰を指すこともあるが、\n",
        "より一般には、基底関数と呼ばれる関数を用いて\n",
        "\n",
        "$$\n",
        "y({\\bf x},{\\bf w})= \\sum^{M-1}_{j=0} w_j \\phi_j({\\bf x}) = {\\bf w}^T\\boldsymbol{\\phi}({\\bf x})\n",
        "$$\n",
        "\n",
        "というモデルを用いた回帰を指す。ここで、$\\boldsymbol{\\phi}({\\bf x})$は**基底関数**と呼ばれる。\n",
        "\"線形\"の意味するところは、基底関数を重ね合わせるパラメータ(重み)$w$の意味での線形であることに注意しよう。\n",
        "\n",
        "上記の基底関数としては、ガウス型基底関数、シグモイド基底関数、スプライン基底関数、フーリエ基底関数などがある。\n",
        "「幾つかの関数を重みをつけて重ね合わせることで、データをうまく表現するような関数を作る」というイメージを持つと良い。"
      ]
    },
    {
      "cell_type": "markdown",
      "metadata": {
        "id": "qDs_Ob0fwnVN"
      },
      "source": [
        "## 線形回帰の一般的な性質\n",
        "\n",
        "線形回帰モデル:$y({\\bf x},{\\bf w})= \\sum^{M-1}_{j=0} w_j \\phi_j({\\bf x}) = {\\bf w}^T\\boldsymbol{\\phi}({\\bf x})$を考える。\n",
        "\n",
        "ここで$\\boldsymbol{\\phi}$は基底関数のベクトルで、$p$次の多項式回帰の場合は$\\boldsymbol{\\phi}=(1, x, x^2, \\ldots, x^p)$となる。実際に、ベクトルの内積の形で書き下すと${\\bf w}^T\\boldsymbol{\\phi}=w_0 + w_1x+ w_2x^2+ \\cdots + w_{p}x^p$となり、$p$次多項式になっている。\n",
        "\n",
        "\n",
        "さて目標変数$t$が、決定論的な関数$y({\\bf x},{\\bf w})$と平均0,精度$\\beta\\equiv 1/\\sigma^2$の誤差$\\epsilon$の和:  $t=y({\\bf x},{\\bf w})+\\epsilon$で与えられていると仮定(≒モデル化)する。\n",
        "\n",
        "つまり、$t$の確率分布が$p(t|{\\bf x},{\\bf w},\\beta) = \\mathcal{N}(t|y({\\bf x},{\\bf w}),\\beta^{-1})$で与えられるとする。\n",
        "$\\mathcal{N}(x|\\mu,\\Sigma)$は平均ベクトルが$\\mu$、共分散行列が$\\Sigma$の多変量正規分布を表す。\n",
        "\n",
        "いまデータ点が$N$個あるとする。入力$\\boldsymbol{\\mathrm{X}}=\\{{\\bf x_1},{\\bf x_2},\\ldots, {\\bf x_N}\\}$と、対応する目標値を$\\boldsymbol{\\mathrm{t}}=\\{t_1,t_2,\\ldots, t_N\\}$と表すことにしておこう。\n",
        "\n",
        "これらのデータ点が上の分布$p(t|{\\bf x},{\\bf w},\\beta)$から独立に生成されたと仮定すると、データの目標変数についての確率分布は$p(\\boldsymbol{\\mathrm{t}}|\\boldsymbol{\\mathrm{X}},{\\bf w},\\beta) = \\prod^N_{n=1} \\mathcal{N}(t_n|{\\bf w}^T \\boldsymbol{\\phi}({\\bf x_n}) ,\\beta^{-1})$で与えられる。\n",
        "つまり、(少々くどいが)$t$の各点が$y({\\bf x},{\\bf w})$の周りに、精度$\\beta$のガウス分布でばらついているということである。\n",
        "\n",
        "(以下では、確率分布の条件部分にある${\\bf x}$などを適宜省略する)\n",
        "\n",
        ":::{margin}\n",
        "対数尤度等の用語は確率統計などで馴染みがあるだろうか？もしなければ、当面は、対数尤度が大きいほど、データに当てはまりが良いということだけ覚えておけば良い。\n",
        ":::\n",
        "このとき、**対数尤度**と呼ばれる量は$\\ln p(\\boldsymbol{\\mathrm{t}}|{\\bf w},\\beta) = \\sum^N_{n=1} \\ln \\mathcal{N}(t_n|{\\bf w}^T\\boldsymbol{\\phi}({\\bf x_n}) ,\\beta^{-1}) = \\frac{N}{2}\\ln\\beta - \\frac{N}{2}\\ln(2\\pi) -\\beta E_D({\\bf w})$となる。  \n",
        "なお$E_D$は二乗和誤差: $E_D({\\bf w}) \\equiv \\frac{1}{2}\\sum^N_{n=1} \\{ t_n- {\\bf w}^T \\boldsymbol{\\phi}({\\bf x_n})  \\}$で、\n",
        "この式から、**対数尤度の最大化**が、**二乗和誤差の最小化**と等価であることがわかる。"
      ]
    },
    {
      "cell_type": "markdown",
      "metadata": {
        "id": "FjSnT2V6wk08"
      },
      "source": [
        "対数尤度の勾配を書き下し、勾配を用いて対数尤度の最大化(**最尤推定**と呼ぶ)を考えよう。つまり\n",
        "\n",
        "$$\n",
        "\\nabla \\ln p(\\boldsymbol{\\mathrm{t}}|{\\bf w},\\beta) = \\beta \\sum^N_{n=1} \\{ t_n -{\\bf w}^T \\boldsymbol{\\phi}({\\bf x_n}) \\} \\boldsymbol{\\phi}({\\bf x_n})^T =0\n",
        "$$\n",
        "\n",
        "の根を求めてやれば良い。\n",
        "\n",
        "上の式を変形すると\n",
        "$$\n",
        "\\sum^N_{n=1} t_n \\boldsymbol{\\phi}({\\bf x_n})^T = \\sum^N_{n=1} {\\bf w}^T \\boldsymbol{\\phi}({\\bf x_n}) \\boldsymbol{\\phi}({\\bf x_n})^T\n",
        "$$\n",
        "\n",
        "となり、これを${\\bf w}$について解くことで、\n",
        "\n",
        "$$\n",
        "{\\bf w} = ( \\boldsymbol{\\Phi}^T\\boldsymbol{\\Phi}  )^{-1} \\boldsymbol{\\Phi}^T \\boldsymbol{\\mathrm{t}}\n",
        "$$\n",
        "\n",
        "が根であることがわかる。ここで、$\\boldsymbol{\\Phi}$は計画行列(Design Matrix)と呼ばれ、$\\boldsymbol{\\Phi}_{nj} = \\phi_j({\\bf x_n})$で与えられる。\n",
        "\n",
        "\n",
        "つまり、**最尤推定を与えるパラメータ${\\bf w}_{ML}$は、計画行列$\\boldsymbol{\\Phi}$を用いて閉じた形で与えられる**。この点が最も重要である。\n",
        "\n",
        "\n",
        "---\n",
        "\n",
        "上の式を用いて、最尤推定を与えるパラメータ${\\bf w}_{ML}$を求める関数を実装してみよう。\n",
        "\n",
        "次の１次元擬似データの回帰を考えてみる。"
      ]
    },
    {
      "cell_type": "code",
      "execution_count": 1,
      "metadata": {
        "colab": {
          "base_uri": "https://localhost:8080/",
          "height": 320
        },
        "id": "Had64uyx6ieC",
        "outputId": "1dcbff3d-7d29-4bb7-84a5-4c65b3715e49"
      },
      "outputs": [
        {
          "data": {
            "image/png": "[encoded data removed]",
            "text/plain": [
              "<Figure size 432x288 with 1 Axes>"
            ]
          },
          "metadata": {
            "needs_background": "light"
          },
          "output_type": "display_data"
        }
      ],
      "source": [
        "import numpy as np\n",
        "from matplotlib import pyplot as plt\n",
        "\n",
        "## データ点の生成\n",
        "np.random.seed(1234)\n",
        "x = np.linspace(-2.0,6.0,1000)\n",
        "beta = 1.e+2\n",
        "xt = np.linspace(0.0,4.0,20)\n",
        "yt = np.sin(xt) + np.array([ np.random.normal(0.0,1.0/np.sqrt(beta)) for i in range(len(xt))])\n",
        "\n",
        "fig = plt.figure(figsize = (15,5))\n",
        "axs = [fig.add_subplot(111)]\n",
        "axs[0].scatter(xt,yt,label=\"Data\",color=\"k\",marker=\"x\")\n",
        "axs[0].legend()\n",
        "plt.show()\n",
        "plt.close() "
      ]
    },
    {
      "cell_type": "markdown",
      "metadata": {
        "id": "pX2ZEq1TAY_8"
      },
      "source": [
        "これを,numpyモジュールの多項式fit関数と、上の計画行列によって3次式で回帰してみると..."
      ]
    },
    {
      "cell_type": "code",
      "execution_count": 2,
      "metadata": {
        "colab": {
          "base_uri": "https://localhost:8080/",
          "height": 282
        },
        "id": "JuQGBg5qq8x0",
        "outputId": "0584baea-431a-4f0e-d787-59ec0d13ac82"
      },
      "outputs": [
        {
          "name": "stderr",
          "output_type": "stream",
          "text": [
            "/var/folders/8z/9_7wnny57zn_g89m70cl4w3m0000gn/T/ipykernel_17226/432805879.py:30: RuntimeWarning: divide by zero encountered in log10\n",
            "  axs[1].plot(x,np.log10(abs(yp-yD)))\n"
          ]
        },
        {
          "data": {
            "image/png": "[encoded data removed]",
            "text/plain": [
              "<Figure size 432x288 with 2 Axes>"
            ]
          },
          "metadata": {
            "needs_background": "light"
          },
          "output_type": "display_data"
        }
      ],
      "source": [
        "N = len(xt)\n",
        "\n",
        "##　多項式の次元を固定しておく\n",
        "p=3\n",
        "\n",
        "##numpyのfit\n",
        "yp = np.poly1d(np.polyfit(xt, yt, p))(x) \n",
        "\n",
        "## 計画行列を用いる方法\n",
        "def phi(x,p):\n",
        "    return np.array([ x**i for i in range(p+1)])\n",
        "Phi = np.zeros((N,p+1))\n",
        "for i in range(N):\n",
        "    xn = xt[i]\n",
        "    tmp = phi(xn,p) \n",
        "    for j in range(p+1):\n",
        "        Phi[i][j] = tmp[j]\n",
        "S = np.linalg.inv(np.dot(Phi.T,Phi))\n",
        "wML = np.dot(S,np.dot(Phi.T,yt))\n",
        "yD = [ np.dot(wML,phi(xn,p)) for xn in x ]\n",
        "\n",
        "#図のplot\n",
        "fig = plt.figure(figsize = (20,4))\n",
        "axs = [fig.add_subplot(121),fig.add_subplot(122)]\n",
        "axs[0].scatter(xt,yt,label=\"Data\",color=\"k\",marker=\"x\")\n",
        "axs[0].plot(x,yp,label=\"np.polyfit\",color=\"r\",alpha=0.5)\n",
        "axs[0].plot(x,yD,label=\"DMat\",linestyle=\"dotted\", color=\"g\")\n",
        "axs[0].legend()\n",
        "\n",
        "axs[1].plot(x,np.log10(abs(yp-yD)))\n",
        "plt.show()\n",
        "plt.close() "
      ]
    },
    {
      "cell_type": "markdown",
      "metadata": {
        "id": "jO4b2_In7Cd8"
      },
      "source": [
        "となり、ライブラリの出力と計画行列を用いた最尤推定の結果とがピッタリ(ざっくり14桁程度)一致していることがわかる。"
      ]
    },
    {
      "cell_type": "markdown",
      "metadata": {
        "id": "ppJnjTsXB0X9"
      },
      "source": [
        "### $\\clubsuit$ L2正則化項がある場合への拡張\n",
        "\n",
        "\n",
        "詳しくはニューラルネットワークの回に解説するが、一般に回帰問題においては、与えられたデータに対する過度な適合(過適合)とそれによる汎化性能(予測性能)の低下を防ぐために、正則化と呼ばれる手法が用いられる。\n",
        "今の場合も、データは背後にある関数にノイズを足して生成されているが、そのノイズを含んだデータに対して、完全に適合するようなモデルを作ると、ノイズまで含んだ関数を作ってしまうことになる。これは多くの場合、望ましくない。\n",
        "\n",
        "正則化とは、モデルの複雑さを制限することで、過適合を防ぐ手法である。\n",
        "なかでも、L2正則化は、パラメータの二乗和を小さくするように、最尤推定を行う手法であり、機械学習を始めとする多くの分野で用いられている。\n",
        "\n",
        "今まで、モデルとなる関数の良さを測る際は、二乗和誤差関数を用いていたが、これにL2正則化項と呼ばれる重みの二乗和を加えたものを用いる。\n",
        "\n",
        "$$\n",
        "\\frac{1}{2}\\sum^N_{n=1} \\{ t_n- {\\bf w}^T \\boldsymbol{\\phi}({\\bf x_n})  \\} + \\frac{\\lambda}{2} {\\bf w}^T{\\bf w}\n",
        "$$\n",
        "\n",
        "第二項がL2正則化項で、重みが大きければ大きいほど、対数尤度が小さく(=二乗和誤差が大きく)なってしまうような尺度になっていることがわかる。\n",
        "ここで、$\\lambda$は正則化の強さを決めるパラメータで、$\\lambda$が大きいほど、正則化の制限の強さが増す。\n",
        "\n",
        "この式について、上と同様に勾配を計算し、しばらく計算してやると、最尤推定を与えるパラメータ${\\bf w}$は\n",
        "\n",
        "$$\n",
        "{\\bf w}_{ML,L2} = (\\lambda I + \\boldsymbol{\\Phi}^T\\boldsymbol{\\Phi}  )^{-1} \\boldsymbol{\\Phi}^T \\boldsymbol{\\mathrm{t}}\n",
        "$$  \n",
        "\n",
        "となり、計画行列に$\\lambda \\times$単位行列を足した形となる。\n",
        "\n",
        "対数尤度が$|w|^2$に比例することから実はほとんど自明なのだが、あとで示すように「L2正則化を課すこと」は、\n",
        "パラメータのベイズ的取り扱いにおいて「事前分布にガウス分布を仮定すること」と等価である。\n"
      ]
    },
    {
      "cell_type": "markdown",
      "metadata": {},
      "source": [
        "### データの規模に関する注意点\n",
        "\n",
        "上では、線形回帰の最適なパラメータは閉じた形で求められることを紹介した。\n",
        "\n",
        "これは、最適解を得る指針が明確であるというメリットの反面、データのサイズが大きくなるにつれてデメリットが生じる。\n",
        "\n",
        "まずデータ数$N$が大きくなれば、数値計算上のボトルネックは行列に対する演算となる。\n",
        "例えば$N=10^6$とすると、正方行列の行列要素を倍精度(Float64)の浮動小数点で保持しようとすると、\n",
        "変数だけで$(10^6)^2 \\times 8 = 8 \\times 10^{12}$バイトとなり、約8TBとなる。\n",
        "これは、明らかに一般的なPCのメモリの容量を超えている。\n",
        "\n",
        "また、一般に主要な行列演算は、計算量が$O(N^2)$や$O(N^3)$となるため、データ数が大きくなると、計算量が膨大になり現実的な時間で計算が終わらなくなる。\n",
        "\n",
        "このような理由から、データ数が大きくなると、線形回帰のような閉じた形で解けるモデルでも、\n",
        "逐次パラメータを更新し、最適解を探索するような手法が必要となる。\n",
        "\n",
        "機械学習のパラメータ最適化などは、このような逐次的な手法が用いられることが多いため、詳しくは後の章で説明する。\n",
        "\n",
        "\n"
      ]
    },
    {
      "cell_type": "markdown",
      "metadata": {
        "id": "XqR_eYP3K68v"
      },
      "source": [
        "## ベイズ線形回帰"
      ]
    },
    {
      "cell_type": "markdown",
      "metadata": {
        "id": "P2WYkL5sOxhy"
      },
      "source": [
        "次に、パラメータ${\\bf w}$をベイズ的に取り扱う事を考える。\n",
        "このノートでいう\"ベイズ的\"とはせいぜい「パラメータを点推定する立場より有限の幅をもつ確率分布としてパラメータを考える」という程度の意味である。  \n",
        "\n",
        "パラメータ${\\bf w}$が、平均$\\boldsymbol{\\mu}$,共分散$\\boldsymbol{\\Sigma}$で指定される多次元の正規分布に従うと仮定する:\n",
        "\n",
        "$$\n",
        "{\\bf w} \\sim \\mathcal{N}(\\boldsymbol{\\mu},\\boldsymbol{\\Sigma})\n",
        "$$\n",
        "\n",
        "このとき、データ点$t$が観測されたときのパラメータの事後分布は$p({\\bf w}|\\boldsymbol{\\mathcal{t}}) = \\mathcal{N}(\\tilde{\\boldsymbol{\\mu}},\\tilde{\\boldsymbol{\\Sigma}})$で与えられる。\n",
        "\n",
        "ここで事後分布の平均および共分散は以下のとおりである:$\\tilde{\\boldsymbol{\\Sigma}}^{-1} =\\boldsymbol{\\Sigma}^{-1}+\\beta\\boldsymbol{\\Phi}^T \\boldsymbol{\\Phi},\\hspace{0.5cm} \\tilde{\\boldsymbol{\\mu}}= \\tilde{\\boldsymbol{\\Sigma}} (\\boldsymbol{\\Sigma} \\boldsymbol{\\mu} + \\beta \\boldsymbol{\\Phi}^T \\boldsymbol{\\mathcal{t}})$  \n",
        "\n",
        "\n",
        "ここで簡単のため事前分布をさらに簡略化しよう。\n",
        "\n",
        "事前分布の平均$\\boldsymbol{\\mu}$が$0$(ベクトル)かつ、パラメータの事前分布の共分散が対角的(独立な分散をもつ)でなおかつ値が同じ,つまり、上の$\\boldsymbol{\\Sigma}=\\alpha^{-1}I$とかける場合を考える。\n",
        "\n",
        "このとき、事後分布の平均および共分散は以下のように簡略化される:  \n",
        "$\\tilde{\\boldsymbol{\\Sigma}}^{-1} =\\alpha I +\\beta\\boldsymbol{\\Phi}^T \\boldsymbol{\\Phi},\n",
        "\\hspace{0.5cm} \\tilde{\\boldsymbol{\\mu}}=  \\beta \\tilde{\\boldsymbol{\\Sigma}} \\boldsymbol{\\Phi}^T \\boldsymbol{\\mathcal{t}}$\n",
        "\n",
        "この条件のもとで対数事後確率(log posterior)と呼ばれる量は、$\\ln p({\\bf w}|\\boldsymbol{\\mathrm{t}}) = -\\frac{\\beta}{2}\\sum^N_{n=1} \\{t_n - {\\bf w}^T \\phi(x_n) \\}^2 -\\frac{\\alpha}{2} {\\bf w}^T{\\bf w} + $ (正規分布の係数からくるオマケの定数)となる。\n",
        "\n",
        "\n",
        "右辺の2項は、二乗誤差とL2正則化項に対応していることがわかる(最後の項は定数なので最大化/最小化とは関係ない)。したがって、正規分布で与えられる事前分布のもとでパラメータ${\\bf w}$の事後分布を最大化することは、L2正則化項がある場合の誤差関数の最小化と($\\lambda=\\beta/\\alpha$とすれば)等価であることがわかる。\n",
        "\n"
      ]
    },
    {
      "cell_type": "markdown",
      "metadata": {
        "id": "PvjZoBE7U9HF"
      },
      "source": [
        "\n",
        ":::{margin}\n",
        "**性質の良い**とは、**共役事前分布**と呼ばれるように、事後分布が同じ形の確率分布になるような事前分布のことである。\n",
        ":::\n",
        "実用上は${\\bf w}$の分布を考えたあと、それを予測値の分布として伝播させる必要がある。\n",
        "一般に予測分布を評価する際は、サンプリング法などが必要になるが、ガウス分布などの**性質の良い**確率分布を用いる場合は、事後分布が閉じた形で書き下すことができる(今の場合、ガウス分布となる)ため、事後分布に従う乱数などの生成は比較的容易となる。\n",
        "\n",
        "未知の点$x^*$での値を$t^*$と書くことにすると、\n",
        "\n",
        "$$\n",
        "p(t^*|\\boldsymbol{\\mathrm{t}},\\alpha,\\beta) =\n",
        "\\int p(t|{\\bf w},\\beta) p({\\bf w}|\\boldsymbol{\\mathrm{t}},\\alpha,\\beta) d{\\bf w}\n",
        "$$\n",
        "\n",
        "今の場合、ガウス分布の性質から、予測分布は以下で与えられる\n",
        "\n",
        "$$\n",
        "p(t^*|{\\bf x},\\boldsymbol{\\mathrm{t}},\\alpha,\\beta) = \\mathcal{N}(t^*|\\tilde{\\boldsymbol{\\mu}}^T\\boldsymbol{\\phi}({\\bf x}),\\sigma^2_N({\\bf x}))\n",
        "$$\n",
        "\n",
        "ここで、予測分布の分散は\n",
        "\n",
        "$$\n",
        "\\sigma^2_N({\\bf x})= \\frac{1}{\\beta}+\\boldsymbol{\\phi}({\\bf x})^T \\tilde{\\boldsymbol{\\Sigma}}\\boldsymbol{\\phi}({\\bf x}) \n",
        "$$\n",
        "\n"
      ]
    },
    {
      "cell_type": "code",
      "execution_count": 3,
      "metadata": {
        "colab": {
          "base_uri": "https://localhost:8080/",
          "height": 265
        },
        "id": "kmOBxfJPSJkQ",
        "outputId": "b074a333-f044-4144-b9d5-11a7178f0a8e"
      },
      "outputs": [
        {
          "data": {
            "image/png": "[encoded data removed]",
            "text/plain": [
              "<Figure size 720x288 with 1 Axes>"
            ]
          },
          "metadata": {
            "needs_background": "light"
          },
          "output_type": "display_data"
        }
      ],
      "source": [
        "## alpha(事前分布の精度=分散の逆数)は決め打ちとする\n",
        "alpha = 1.e-5 #精度が小さい=分散が大きい=パラメータの事前知識が\"弱い\"\n",
        "\n",
        "## wの事後分布の計算\n",
        "I = np.diag([1.0 for i in range(p+1)])\n",
        "Sigma = np.linalg.inv( alpha * I + beta * np.dot(Phi.T, Phi) )\n",
        "mu = beta * np.dot(Sigma, np.dot(Phi.T,yt))\n",
        "\n",
        "## 予測値(その分散)のリストを作成\n",
        "y_BLR = []\n",
        "for tx in x :\n",
        "    tmp = phi(tx,p)\n",
        "    mu_p = np.dot(mu,tmp)    \n",
        "    term1 = 1.0/beta\n",
        "    term2 =  np.dot(tmp,np.dot(Sigma,tmp))\n",
        "    sigma_p = term1 + term2 \n",
        "    #print(\"term1\", term1, \"term2\", term2)\n",
        "    y_BLR += [ [mu_p, sigma_p] ]\n",
        "y_BLR = np.array(y_BLR).T\n",
        "\n",
        "## plot\n",
        "fig = plt.figure(figsize = (10,4))\n",
        "axs = [fig.add_subplot(111)]\n",
        "axs[0].scatter(xt,yt,label=\"Data\",color=\"k\",marker=\"x\")\n",
        "axs[0].plot(x,yD,label=\"Maximum Likelihood\",linestyle=\"dotted\", color=\"red\")\n",
        "axs[0].plot(x,y_BLR[0],label=\"Mean\",linestyle=\"dashed\", color=\"blue\")\n",
        "axs[0].fill_between(x,y_BLR[0]+np.sqrt(y_BLR[1]),y_BLR[0]-np.sqrt(y_BLR[1]),label=\"1sigma\", color=\"blue\",alpha=0.5)\n",
        "axs[0].fill_between(x,y_BLR[0]+3*np.sqrt(y_BLR[1]),y_BLR[0]-3*np.sqrt(y_BLR[1]),label=\"3sigma\", color=\"gray\",alpha=0.3)\n",
        "axs[0].legend()\n",
        "plt.show()\n",
        "plt.close() "
      ]
    },
    {
      "cell_type": "markdown",
      "metadata": {
        "id": "lrsQqCTcik91"
      },
      "source": [
        "パラメータの広がりが予測に伝搬され、データが無いところで予測が不確かになっていることが見て取れる。\n",
        "\n",
        "\n",
        "注) 上では、データの精度$\\beta$(分散の逆数)や、パラメータ${\\bf w}$の精度$\\alpha$を既知とした。  \n",
        "実際には、$\\beta$そのものがわからなかったりする。"
      ]
    }
  ],
  "metadata": {
    "colab": {
      "collapsed_sections": [],
      "name": "Python_chapter_Bayesian_linear_regression.ipynb",
      "provenance": []
    },
    "kernelspec": {
      "display_name": "Python 3",
      "name": "python3"
    },
    "language_info": {
      "codemirror_mode": {
        "name": "ipython",
        "version": 3
      },
      "file_extension": ".py",
      "mimetype": "text/x-python",
      "name": "python",
      "nbconvert_exporter": "python",
      "pygments_lexer": "ipython3",
      "version": "3.9.16"
    }
  },
  "nbformat": 4,
  "nbformat_minor": 0
}
