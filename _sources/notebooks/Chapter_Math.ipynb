{
 "cells": [
  {
   "cell_type": "markdown",
   "metadata": {
    "id": "Qlp8TMCwqzju"
   },
   "source": [
    "# 機械学習のための数学\n",
    "\n",
    "この章では、機械学習を学習する上で必要な数学の基礎を整理する。\n",
    "\n",
    "\n",
    "機械学習を学ぶ上で必要となる数学は、線形代数, 微分積分学, 確率・統計である。\n",
    "書籍等によっては、ベクトル解析や確率分布、情報理論などもう少し細かく分けられることもあるが、\n",
    "大きな枠組みとしてはこの3つが主要となる。言うまでもなく、これらは互いに排反ではなく、大きなオーバーラップを持っている。\n",
    "以下では、それぞれの項目について、機械学習で必要となる基本的な内容と関連するアルゴリズムなどについて整理する。\n",
    "\n",
    "当然、すべてを網羅することはできないため、進んだ学習の場合には、下記のような参考書を参照することを強く推奨する。\n",
    "\n",
    "- Mathematics for Machine Learning, Marc Peter Deisenroth, A. Aldo Faisal, and Cheng Soon Ong [リンク](https://mml-book.github.io/)\n",
    "  無償版が公開されている. 邦訳も2024年11月に共立出版より発売された."
   ]
  },
  {
   "cell_type": "markdown",
   "metadata": {},
   "source": [
    "## 線形代数\n",
    "\n",
    "科学技術分野で扱う多くの問題を解く上で、線形代数の知識は不可欠となる。  \n",
    "\n",
    "機械学習分野においては、データはベクトル(例: 特徴量)や行列(例: 画像データ)として扱われることが多い。\n",
    "ニューラルネットワーク(多層パーセプトロン)で行う演算は行列ベクトル積であることからも、その関連性は明白であろう。"
   ]
  }
 ],
 "metadata": {
  "colab": {
   "collapsed_sections": [],
   "name": "Python_chapter_Bayesian_linear_regression.ipynb",
   "provenance": []
  },
  "kernelspec": {
   "display_name": "Python 3",
   "name": "python3"
  },
  "language_info": {
   "codemirror_mode": {
    "name": "ipython",
    "version": 3
   },
   "file_extension": ".py",
   "mimetype": "text/x-python",
   "name": "python",
   "nbconvert_exporter": "python",
   "pygments_lexer": "ipython3",
   "version": "3.11.4"
  }
 },
 "nbformat": 4,
 "nbformat_minor": 0
}
