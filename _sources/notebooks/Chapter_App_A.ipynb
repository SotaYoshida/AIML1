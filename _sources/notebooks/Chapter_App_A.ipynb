{
  "cells": [
    {
      "attachments": {},
      "cell_type": "markdown",
      "metadata": {
        "colab_type": "text",
        "id": "view-in-github"
      },
      "source": [
        "<a href=\"https://colab.research.google.com/github/SotaYoshida/Lecture_DataScience/blob/main/notebooks/Python_chapter_ArtificialNeuralNetwork.ipynb\" target=\"_parent\"><img src=\"https://colab.research.google.com/assets/colab-badge.svg\" alt=\"Open In Colab\"/></a>"
      ]
    },
    {
      "attachments": {},
      "cell_type": "markdown",
      "metadata": {
        "id": "sKor3X3ievgT"
      },
      "source": [
        "# 機械学習フレームワークの紹介\n",
        "\n",
        "Pythonには機械学習のフレームワークが多数存在します。\n",
        "ここでは、その中でも特に有名なTensorFlowとPyTorchを紹介します。\n",
        "\n",
        "\n",
        "機械学習フレームワークの選択については多面的な側面があるので一概に良し悪しを判断することは難しいですが、\n",
        "とくにCS系や物理など周辺領域の研究者が発表する論文に付随する実装においては、近年PyTorchが主流になりつつある印象です。\n",
        "\n",
        "著者(吉田)は、Tensorflowの使用経験が少ないのと、主に自身の研究等でもPyTorchを使っているため、TensorFlowについては簡単な紹介に留めます。\n",
        "\n",
        "\n",
        "## TensorFlow\n",
        "\n",
        "TensorFlowはGoogleが開発した機械学習フレームワークで、2015年に登場しました。\n",
        "\n",
        "TensorFlowを利用するのによく用いられるライブラリ(ないしAPI)はKerasです。\n",
        "Kerasは元々独立した機械学習ライブラリで、TensorFlowを含む複数のバックエンドから選択・使用する\n",
        "ことができる性質のものでした。その後(2017年)、tensorflow.kerasとしてTensorFlowに統合され、\n",
        "現在ではKerasというとtensorflow.kerasを指す場合が多いです。\n",
        "\n",
        "TensorFlow(+Keras)の特徴としては、比較的簡単に機械学習モデルを構築することができます。\n",
        "\n",
        "CNNなどを用いた画像認識など、2010年代後半に発売されている書籍の多くでは、\n",
        "機械学習モデルのサンプルコードとしてTensorFlow(& Keras)が使われています。\n",
        "\n",
        "\n",
        "## PyTorch \n",
        "\n",
        "PyTorchはFacebookが開発した機械学習フレームワークで、2016年に登場しました。\n",
        "PyTorchは、カスタマイズがしやすく研究成果の発表・実装に向いていると評されています。"
      ]
    }
  ],
  "metadata": {
    "accelerator": "TPU",
    "colab": {
      "authorship_tag": "ABX9TyPpQYMbqGEZMRisgxppnqSm",
      "collapsed_sections": [],
      "include_colab_link": true,
      "name": "Python_chapter_ArtificialNeuralNetwork.ipynb",
      "provenance": []
    },
    "kernelspec": {
      "display_name": "Python 3",
      "name": "python3"
    }
  },
  "nbformat": 4,
  "nbformat_minor": 0
}
