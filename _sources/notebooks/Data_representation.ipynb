{
 "cells": [
  {
   "cell_type": "markdown",
   "id": "889bc2e2",
   "metadata": {},
   "source": [
    "# 機械学習におけるデータ表現の基礎\n",
    "\n",
    "このノートブックでは、機械学習で扱う「画像」や「文字」などのデータが、どのように数値として表現されるのかを初歩から解説する。"
   ]
  },
  {
   "cell_type": "markdown",
   "id": "dcfd0e70",
   "metadata": {},
   "source": [
    "---\n",
    "\n",
    "## 画像データの数値表現（白黒画像）\n",
    "\n",
    "白黒画像（グレースケール画像）は、各ピクセルが「明るさ（輝度）」を表す値で構成される。\n",
    "\n",
    "- 画像は2次元の格子（配列）として表現される。\n",
    "- 各ピクセルは0〜255の整数値（8ビット）で表されることが多い。\n",
    "    - 0: 黒\n",
    "    - 255: 白\n",
    "    - その間の値: 灰色の濃淡\n",
    "\n",
    "### 例：3×3ピクセルの白黒画像\n",
    "\n",
    "グレースケールの画像は、次のような2次元配列（行列）として数値で表現できる。\n",
    "実際に、`numpy.ndarray`でピクセル値を作成して、白黒画像を表示してみよう。"
   ]
  },
  {
   "cell_type": "code",
   "execution_count": 7,
   "id": "361de33f",
   "metadata": {},
   "outputs": [
    {
     "data": {
      "text/plain": [
       "(-0.5, 2.5, 2.5, -0.5)"
      ]
     },
     "execution_count": 7,
     "metadata": {},
     "output_type": "execute_result"
    },
    {
     "data": {
      "image/png": "[encoded data removed]",
      "text/plain": [
       "<Figure size 640x480 with 1 Axes>"
      ]
     },
     "metadata": {},
     "output_type": "display_data"
    }
   ],
   "source": [
    "# 3x3の白黒画像を2次元配列で表現\n",
    "import numpy as np\n",
    "import matplotlib.pyplot as plt\n",
    "\n",
    "gray_image = np.array([\n",
    "    [0, 128, 255],\n",
    "    [64, 192, 32],\n",
    "    [255, 0, 128]\n",
    "])\n",
    "\n",
    "# 画像を表示\n",
    "plt.imshow(gray_image, cmap='gray', vmin=0, vmax=255)\n",
    "plt.axis('off') "
   ]
  },
  {
   "cell_type": "markdown",
   "id": "df5d7a87",
   "metadata": {},
   "source": [
    "---\n",
    "\n",
    "## 画像データの数値表現（カラー画像）\n",
    "\n",
    "カラー画像は、各ピクセルが「赤（R）」「緑（G）」「青（B）」の3つの成分で表現される。\n",
    "\n",
    "- 各ピクセルは3つの値（R, G, B）を持つ。\n",
    "- 画像全体は「高さ×幅×3（色）」の3次元配列になる。\n",
    "- 各成分は0〜255の整数値で表されることが多い。\n",
    "\n",
    "### 例：2×2ピクセルのカラー画像\n",
    "\n",
    "| ピクセル位置 (行・列番号) | R | G | B |\n",
    "|:---:|:---:|:---:|:---:|\n",
    "| (0,0) | 255 | 0   | 0   |  # 赤\n",
    "| (0,1) | 0   | 255 | 0   |  # 緑\n",
    "| (1,0) | 0   | 0   | 255 |  # 青\n",
    "| (1,1) | 255 | 255 | 0   |  # 黄\n",
    "\n",
    "このような画像は、次のような3次元配列で表現される。\n"
   ]
  },
  {
   "cell_type": "code",
   "execution_count": null,
   "id": "910d5a60",
   "metadata": {},
   "outputs": [
    {
     "data": {
      "image/png": "[encoded data removed]",
      "text/plain": [
       "<Figure size 640x480 with 1 Axes>"
      ]
     },
     "metadata": {},
     "output_type": "display_data"
    }
   ],
   "source": [
    "# 2x2のカラー画像を3次元配列で表現\n",
    "color_image = np.array([\n",
    "    [[255, 0, 0], [0, 255, 0]],   # 1行目: 赤, 緑\n",
    "    [[0, 0, 255], [255, 255, 0]]  # 2行目: 青, 黄\n",
    "])\n",
    "plt.imshow(color_image)\n",
    "plt.axis('off') \n",
    "plt.show()"
   ]
  },
  {
   "cell_type": "markdown",
   "id": "3a9de88c",
   "metadata": {},
   "source": [
    "---\n",
    "\n",
    "## 文字データの数値表現 (bit列との対応関係)\n",
    "\n",
    "最も単純に文字を数値で表現する方法は、各文字に一意の整数を割り当てる方法である。  \n",
    "例:\n",
    "- A → 1\n",
    "- B → 2\n",
    "- C → 3\n",
    "- Z → 26\n",
    "\n",
    "大文字のアルファベットだけなら、1から26までの整数で表現できる。0か1をとるビットで表現するには、5ビットあれば十分である（2^5 = 32通り）。\n",
    "対応関係は、右側のbitを1の位、左側に行くほど桁が上がると考えると、次のように表現することができる(ただし、別にこれが唯一の表現方法というわけではない)。\n",
    "\n",
    "- A: 00001 = 1 (10進数)\n",
    "- B: 00010 = 2 (10進数)\n",
    "- C: 00011 = 3 (10進数)\n",
    "- Z: 11010 = 26 (10進数)\n",
    "\n",
    "右側から$n$桁目のbitが1であれば、$2^{(n-1)}$を足し合わせたものが10進数での値になる。\n",
    "\n",
    "\n",
    "実際には、古くから使われているASCIIコードや、より多くの文字を表現できるUnicodeなどがある。\n",
    "対応表が異なれば、同じ文字でも異なる数値になるため、文字化けの原因になることがある。\n",
    "よく、csvファイルをテキストエディタやExcelなどのソフトウェアで開いたときに、文字化けして大量の糸偏の漢字が表示されることがあるが、これは文字コードの対応表が異なるために起こる現象である。"
   ]
  },
  {
   "cell_type": "markdown",
   "id": "08655d93",
   "metadata": {},
   "source": [
    "\n",
    "## 文字データの数値表現（埋め込みベクトルの概要）\n",
    "\n",
    "上記のようなbit列との対応関係は、単純で分かりやすいが、より高度な自然言語処理にはビット数を増やすだけでは十分ではない。\n",
    "というのも、例えば日本語の全ての単語をデータベース化して対応する整数を割り当てたとして、\n",
    "「大学」と「大学院」が近い意味を持つことを、整数の大小関係や距離で表現することはできない。\n",
    "単語の数が少なければまだしも、数十万語にもなると、整数の割り当てだけでは意味的な関係を表現できない。\n",
    "\n",
    "特定の単語が他の単語とどれくらい意味的に近いか、あるいは文脈的に似ているかを数値で表現するには、**埋め込みベクトル（word embedding）** という方法が用いられる。\n",
    "\n",
    "- 例：2次元の埋め込みベクトル\n",
    "    - king → [0.8, 0.6]\n",
    "    - queen → [0.7, 0.7]\n",
    "    - apple → [0.1, 0.9]\n",
    "\n",
    "このようなベクトル表現では、「意味が近い単語ほどベクトルの距離が近い」などの性質を持たせることができる。\n",
    "要するに、それぞれの単語を$K$次元のベクトル空間にマッピングすることで、意味的な関係を捉えやすくする訳だ。\n",
    "単に整数を割り当てる場合は、1次元の空間にマッピングしているのと同じであり、意味的な関係を表現するには不十分であるとも言える。"
   ]
  },
  {
   "cell_type": "code",
   "execution_count": 9,
   "id": "2e03bcf5",
   "metadata": {},
   "outputs": [
    {
     "name": "stdout",
     "output_type": "stream",
     "text": [
      "king-queenの距離: 0.14142135623730956\n",
      "king-appleの距離: 0.761577310586391\n",
      "queen-appleの距離: 0.6324555320336759\n"
     ]
    }
   ],
   "source": [
    "# 単語の埋め込みベクトル例 (あくまでかなり簡略化した例)\n",
    "embedding = {\n",
    "    'king':   [0.8, 0.6],\n",
    "    'queen':  [0.7, 0.7],\n",
    "    'apple':  [0.1, 0.9]\n",
    "}\n",
    "\n",
    "print(\"king-queenの距離:\", np.linalg.norm(np.array(embedding['king']) - np.array(embedding['queen'])))\n",
    "print(\"king-appleの距離:\", np.linalg.norm(np.array(embedding['king']) - np.array(embedding['apple'])))\n",
    "print(\"queen-appleの距離:\", np.linalg.norm(np.array(embedding['queen']) - np.array(embedding['apple'])))"
   ]
  },
  {
   "cell_type": "markdown",
   "id": "41379604",
   "metadata": {},
   "source": [
    "際の埋め込みベクトルはもっと高次元で表現・学習される。\n",
    "\n",
    "こうした単語の埋め込みベクトルとして有名なものにGoogleが2013年に作成・公開した`Word2Vec`などがある。\n",
    "コーパス（大量の文章データ）を数百程度の次元のベクトルに変換し、意味的に近い単語ほどベクトル空間上で近くなるように学習する。\n",
    "\n",
    "\n",
    "ただし、より高度な自然言語処理には、埋め込みベクトル(決まった次元の空間でのベクトル表現)だけでは十分ではない場合がある。\n",
    "というのも、単語の持つ意味は文脈によって変わることがあるからである。例を示そう。\n",
    "\n",
    "- 「吉田は大学で物理を学んでいる。」\n",
    "- 「ピ●チュウは物理よりで育ててるんだよね。」\n",
    "\n",
    ":::{margin}\n",
    "ここでの距離の大小はあくまで例示である。「物理」と「文学」は必ずしも距離が遠いとは限らない。例えば寺田寅彦は物理学者であると同時に俳人でもある。\n",
    ":::\n",
    "前者の「物理」は物理学の意味であり、「化学」「生物」「宇宙」などと距離が近く、「文学」などと距離が遠いかもしれない。\n",
    "一方で、後者の「物理」は物理攻撃の意味であり、「攻撃」「ダメージ」などゲーム用語と意味合いが近く、「魔法」「特殊」などと若干距離が遠いかもしれない。\n",
    "\n",
    "\n",
    "こうした文脈を捉えるうえでは、単語の埋め込みベクトルを文脈に応じて動的に変化させる手法が必要になり、Attention機構などが有効であることが知られている。\n",
    "その最たる例が、大規模言語モデル(LLM)である。"
   ]
  },
  {
   "cell_type": "markdown",
   "id": "8dc6b91e",
   "metadata": {},
   "source": [
    "## データのスケーリング\n",
    "\n",
    "上記のように、様々なデータを数値で表現できる例は挙げたが、実際に機械学習で扱う際には、データのスケール・分布が重要になる場合が多い。\n",
    "というのも、あらかじめ決めた規則に従ってデータを数値化しても、データのスケール(≒数値の範囲や分布)が異なると、機械学習モデルの学習がうまくいかないことがあるからである。\n",
    "\n",
    "例えば上の画像データの例で、白黒画像のピクセル値は0〜255の範囲であるが、もし別のデータセットでピクセル値が限られた範囲で表現されている場合(つまり、人間には分かりにくい僅かな濃淡だけがある場合)、これらをそのまま同じモデルで学習させると、うまくいかないことがある。\n",
    "その僅かな濃淡をもとに、例えばレントゲン写真から病理診断を行うと仮定した場合、ピクセル値の範囲が狭いと、モデルがその違いを学習しづらくなる可能性がある。\n",
    "\n",
    "多くの機械学習モデルでは、データのスケールを揃えるために、データの平均を0、標準偏差を1にする **標準化（Standardization）** などと呼ばれる手法が用いられる。"
   ]
  }
 ],
 "metadata": {
  "kernelspec": {
   "display_name": "venv (3.12.11)",
   "language": "python",
   "name": "python3"
  },
  "language_info": {
   "codemirror_mode": {
    "name": "ipython",
    "version": 3
   },
   "file_extension": ".py",
   "mimetype": "text/x-python",
   "name": "python",
   "nbconvert_exporter": "python",
   "pygments_lexer": "ipython3",
   "version": "3.12.11"
  }
 },
 "nbformat": 4,
 "nbformat_minor": 5
}
