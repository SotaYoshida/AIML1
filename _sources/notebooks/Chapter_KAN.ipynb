{
  "cells": [
    {
      "attachments": {},
      "cell_type": "markdown",
      "metadata": {
        "id": "sKor3X3ievgT"
      },
      "source": [
        "# KAN: Kolmogorov–Arnold Networks\n",
        "\n",
        "この章では、Kolmogorov-Arnold Networks (KAN)について簡単に紹介する。\n",
        "\n",
        "KANは、2024年4月に提案された新しいモデルで、ニューラルネットワーク(多層パーセプトロン, MLP)を置き換える(かもしれない)手法だとして注目を集めた。\n",
        "\n",
        "Ziming Liu, Yixuan Wang, Sachin Vaidya, Fabian Ruehle, James Halverson, Marin Soljačić, Thomas Y. Hou, Max Tegmark, [arXiv:2404.19756](https://arxiv.org/abs/2404.19756)\n",
        "\n",
        "筆頭著者によるGithubレポジトリ[pykan](https://github.com/KindXiaoming/pykan)を参照しながら解説とチュートリアルを行う。\n"
      ]
    },
    {
      "cell_type": "markdown",
      "metadata": {},
      "source": [
        "## 概要\n",
        "\n",
        "KANの根幹は、「有界な領域上の連続な多変量関数は、有界領域上の単変数関数の合成で表現できる」というKolmogorov-Arnoldの表現定理である。\n",
        "\n",
        "入力に対して予め決められた非線形関数(Affine変換→活性化関数)と学習可能な重みを持つ関数を構成するMLPと対照的に、\n",
        "KANは、ノード間を繋ぐ関数を学習することで、任意の多変量関数を表現するという特徴がある。\n",
        "\n",
        "簡単のため、$d$次元の入力$\\mathbf{x}$を考えた単層のMLPとKANを比較する。\n",
        "\n",
        "$$\n",
        "\\begin{align}\n",
        "\\text{MLP:} \\quad f(\\mathbf{x}) &= \\sum^n_{i=1} a_i \\sigma(\\mathbf{w}_i \\cdot \\mathbf{x} + b_i)  \\\\\n",
        "\\text{KAN:} \\quad f(\\mathbf{x}) &= f(x_1, \\cdots, x_d) = \n",
        "\\sum^{2d+1}_{q=1} \\Phi_q \\left( \\sum^d_{p=1} \\phi_{q,p} (x_p) \\right)\n",
        "\\end{align}\n",
        "$$\n",
        "ここで、$\\phi_{p,q}: [0,1] \\to \\mathbb{R}$、$\\Phi_q: \\mathbb{R} \\to \\mathbb{R}$である。\n",
        "後者は単層といいつつ、単変数関数の合成になっていることに注意。\n",
        "\n",
        "一般には、2-layerで幅$2d+1$のKolmogorov-Arnold表現は連続ではないが、KANでは文字通り、これを多層に拡張する。"
      ]
    },
    {
      "cell_type": "markdown",
      "metadata": {},
      "source": [
        "## KAN: Kolmogorov-Arnold Networksの定式化\n",
        "\n",
        "KANは、次のように定式化される。\n",
        "\n",
        "$$f(x)={\\bf \\Phi}_{\\rm out}\\circ{\\bf \\Phi}_{\\rm in}\\circ {\\bf x}$$\n",
        "\n",
        "ここで、\n",
        "\n",
        "$${\\bf \\Phi}_{\\rm in}= \\begin{pmatrix} \\phi_{1,1}(\\cdot) & \\cdots & \\phi_{1,n}(\\cdot) \\\\ \\vdots & & \\vdots \\\\ \\phi_{2n+1,1}(\\cdot) & \\cdots & \\phi_{2n+1,n}(\\cdot) \\end{pmatrix},\\quad {\\bf \\Phi}_{\\rm out}=\\begin{pmatrix} \\Phi_1(\\cdot) & \\cdots & \\Phi_{2n+1}(\\cdot)\\end{pmatrix}$$\n",
        "\n",
        "である。以下のように、写像を一般化してKolmogorov-Arnold layerと呼ぶ。\n",
        "\n",
        "$${\\bf \\Phi}= \\begin{pmatrix} \\phi_{1,1}(\\cdot) & \\cdots & \\phi_{1,n_{\\rm in}}(\\cdot) \\\\ \\vdots & & \\vdots \\\\ \\phi_{n_{\\rm out},1}(\\cdot) & \\cdots & \\phi_{n_{\\rm out},n_{\\rm in}}(\\cdot) \\end{pmatrix}$$\n",
        "\n",
        "そうすると、${\\bf \\Phi_{\\rm in}}, {\\bf \\Phi_{\\rm out}}$はそれぞれ$(n_{\\rm in}, n_{\\rm in})=(n,2n+1)$, $(n_{\\rm out}, n_{\\rm out})=(2n+1,1)$の場合とみなせる。\n",
        "\n",
        "これを多層に拡張すると\n",
        "\n",
        "$${\\rm KAN}({\\bf x})={\\bf \\Phi}_{L-1}\\circ\\cdots \\circ{\\bf \\Phi}_1\\circ{\\bf \\Phi}_0\\circ {\\bf x}$$\n",
        "\n",
        "となる。なお、$l$番目のレイヤーが$(n_{l+1}, n_{l})$の形を持つとする。\n",
        "\n",
        "論文では特にこの$\\phi$を、B-spline関数を用いて表現することを提案している。"
      ]
    },
    {
      "cell_type": "markdown",
      "metadata": {},
      "source": [
        "## Implementation details\n",
        "\n",
        "KANレイヤーの構造は非常にシンプルだが、著者らは3つの\"key tricks\"を提案している。\n",
        "\n",
        "1. Residual activation functions:\n",
        "   単純なsplineの合成では関数の近似が不十分な場合があるため、バックグラウンドとも呼ぶべき基底関数とsplineを重ね合わせている\n",
        "\n",
        "    $$\n",
        "    \\phi(x) = w_b b(x) + w_s \\mathrm{spline}(x)\\\\\n",
        "    \\mathrm{spline}(x) = \\sum_i c_i B_i(x)\\\\\n",
        "    b(x) = \\mathrm{silu}(x) = x / (1 + \\exp(-x))\n",
        "    $$\n",
        "\n",
        "    係数$c_i$は学習可能であり、$B_i(x)$はB-spline関数である。\n",
        "    $w_b$と$w_s$の項は冗長になりうるものの、これにより関数の表現力が向上する。\n",
        "\n",
        "2. Initialization scales:\n",
        "\n",
        "    それぞれの活性化関数は$w_s=1$になるようつまり$\\mathrm{spline}(x) \\approx 0$になるよう初期化する。\n",
        "    $w_b$はXavierの初期化を用いる。\n",
        "\n",
        "3. Update of spline grids:\n",
        "\n",
        "    splineは有界な領域で定義されているため、モデルの表現力を向上させるために、学習中にsplineのグリッドをon the flyで更新する。"
      ]
    },
    {
      "cell_type": "markdown",
      "metadata": {},
      "source": [
        "## pykanを用いたチュートリアル\n",
        "\n",
        "```python\n",
        "# python==3.9.7\n",
        "matplotlib==3.6.2\n",
        "numpy==1.24.4\n",
        "scikit_learn==1.1.3\n",
        "setuptools==65.5.0\n",
        "sympy==1.11.1\n",
        "torch==2.2.2\n",
        "tqdm==4.66.2\n",
        "```"
      ]
    },
    {
      "cell_type": "code",
      "execution_count": 6,
      "metadata": {},
      "outputs": [],
      "source": [
        "#!pip install pykan"
      ]
    },
    {
      "cell_type": "markdown",
      "metadata": {},
      "source": [
        "**KANモデルの初期化**\n",
        "\n",
        "2次元入力、1次元出力, 隠れそうのノード数は5として、cubic B-spline (k=3)をグリッド数5で初期化する。"
      ]
    },
    {
      "cell_type": "code",
      "execution_count": 7,
      "metadata": {},
      "outputs": [
        {
          "name": "stdout",
          "output_type": "stream",
          "text": [
            "checkpoint directory created: ./model\n",
            "saving model version 0.0\n"
          ]
        }
      ],
      "source": [
        "from kan import *\n",
        "torch.set_default_dtype(torch.float64)\n",
        "model = KAN(width=[2,5,1], grid=5, k=3, seed=42)"
      ]
    },
    {
      "cell_type": "markdown",
      "metadata": {},
      "source": [
        "**データセットの作成**\n",
        "\n",
        "$$\n",
        "f(x,y) = \\exp(\\sin(\\pi x) + y^2)\n",
        "$$\n",
        "\n",
        "に従うデータセットを作成する。(x,y)は[0,1]の範囲でランダムに生成する。"
      ]
    },
    {
      "cell_type": "code",
      "execution_count": 8,
      "metadata": {},
      "outputs": [
        {
          "data": {
            "text/plain": [
              "(torch.Size([1000, 2]), torch.Size([1000, 1]))"
            ]
          },
          "execution_count": 8,
          "metadata": {},
          "output_type": "execute_result"
        }
      ],
      "source": [
        "from kan.utils import create_dataset\n",
        "f = lambda x: torch.exp(torch.sin(torch.pi*x[:,[0]]) + x[:,[1]]**2)\n",
        "dataset = create_dataset(f, n_var=2)\n",
        "dataset['train_input'].shape, dataset['train_label'].shape"
      ]
    },
    {
      "cell_type": "markdown",
      "metadata": {},
      "source": [
        "**初期段階のKANの可視化**"
      ]
    },
    {
      "cell_type": "code",
      "execution_count": 9,
      "metadata": {},
      "outputs": [
        {
          "data": {
            "image/png": "[encoded data removed]",
            "text/plain": [
              "<Figure size 500x400 with 22 Axes>"
            ]
          },
          "metadata": {},
          "output_type": "display_data"
        }
      ],
      "source": [
        "# plot KAN at initialization\n",
        "model(dataset['train_input'])\n",
        "model.plot()"
      ]
    },
    {
      "cell_type": "markdown",
      "metadata": {},
      "source": [
        "**スパース正則化を用いてKANを学習する**"
      ]
    },
    {
      "cell_type": "code",
      "execution_count": 10,
      "metadata": {},
      "outputs": [
        {
          "name": "stderr",
          "output_type": "stream",
          "text": [
            "| train_loss: 6.19e-03 | test_loss: 6.58e-03 | reg: 7.86e+00 | : 100%|█| 50/50 [00:09<00:00,  5.14it"
          ]
        },
        {
          "name": "stdout",
          "output_type": "stream",
          "text": [
            "saving model version 0.1\n"
          ]
        },
        {
          "name": "stderr",
          "output_type": "stream",
          "text": [
            "\n"
          ]
        }
      ],
      "source": [
        "model.fit(dataset, opt=\"LBFGS\", steps=50, lamb=0.001);"
      ]
    },
    {
      "cell_type": "markdown",
      "metadata": {},
      "source": [
        "**訓練後のKANの可視化**\n",
        "\n",
        "不要なところを取り除く`prune`メソッドを使う。"
      ]
    },
    {
      "cell_type": "code",
      "execution_count": 11,
      "metadata": {},
      "outputs": [
        {
          "name": "stdout",
          "output_type": "stream",
          "text": [
            "saving model version 0.2\n"
          ]
        },
        {
          "data": {
            "image/png": "[encoded data removed]",
            "text/plain": [
              "<Figure size 500x400 with 6 Axes>"
            ]
          },
          "metadata": {},
          "output_type": "display_data"
        }
      ],
      "source": [
        "model = model.prune()\n",
        "model.plot()"
      ]
    },
    {
      "cell_type": "markdown",
      "metadata": {},
      "source": [
        "**さらに訓練を進めて再度プロット**"
      ]
    },
    {
      "cell_type": "code",
      "execution_count": 12,
      "metadata": {},
      "outputs": [
        {
          "name": "stderr",
          "output_type": "stream",
          "text": [
            "| train_loss: 4.65e-03 | test_loss: 4.68e-03 | reg: 7.72e+00 | : 100%|█| 50/50 [00:02<00:00, 23.15it"
          ]
        },
        {
          "name": "stdout",
          "output_type": "stream",
          "text": [
            "saving model version 0.3\n"
          ]
        },
        {
          "name": "stderr",
          "output_type": "stream",
          "text": [
            "\n"
          ]
        }
      ],
      "source": [
        "model.fit(dataset, opt=\"LBFGS\", steps=50);"
      ]
    },
    {
      "cell_type": "markdown",
      "metadata": {},
      "source": [
        "gridをrefineする"
      ]
    },
    {
      "cell_type": "code",
      "execution_count": 13,
      "metadata": {},
      "outputs": [
        {
          "name": "stdout",
          "output_type": "stream",
          "text": [
            "saving model version 0.4\n"
          ]
        }
      ],
      "source": [
        "model = model.refine(10)"
      ]
    },
    {
      "cell_type": "code",
      "execution_count": 14,
      "metadata": {},
      "outputs": [
        {
          "name": "stderr",
          "output_type": "stream",
          "text": [
            "| train_loss: 2.92e-04 | test_loss: 3.07e-04 | reg: 7.72e+00 | : 100%|█| 50/50 [00:02<00:00, 19.60it"
          ]
        },
        {
          "name": "stdout",
          "output_type": "stream",
          "text": [
            "saving model version 0.5\n"
          ]
        },
        {
          "name": "stderr",
          "output_type": "stream",
          "text": [
            "\n"
          ]
        }
      ],
      "source": [
        "model.fit(dataset, opt=\"LBFGS\", steps=50);"
      ]
    },
    {
      "cell_type": "markdown",
      "metadata": {},
      "source": [
        "**シンボリック回帰を行う(自動 or 手動)**"
      ]
    },
    {
      "cell_type": "code",
      "execution_count": 15,
      "metadata": {},
      "outputs": [
        {
          "name": "stdout",
          "output_type": "stream",
          "text": [
            "fixing (0,0,0) with sin, r2=0.9999999698716154, c=2\n",
            "fixing (0,1,0) with x^2, r2=0.9999999973252476, c=2\n",
            "fixing (1,0,0) with exp, r2=0.9999999992839835, c=2\n",
            "saving model version 0.6\n"
          ]
        }
      ],
      "source": [
        "mode = \"auto\" # \"manual\"\n",
        "if mode == \"manual\":\n",
        "    # manual mode\n",
        "    model.fix_symbolic(0,0,0,'sin');\n",
        "    model.fix_symbolic(0,1,0,'x^2');\n",
        "    model.fix_symbolic(1,0,0,'exp');\n",
        "elif mode == \"auto\":\n",
        "    # automatic mode\n",
        "    lib = ['x','x^2','x^3','x^4','exp','log','sqrt','tanh','sin','abs']\n",
        "    model.auto_symbolic(lib=lib)"
      ]
    },
    {
      "cell_type": "code",
      "execution_count": 16,
      "metadata": {},
      "outputs": [
        {
          "name": "stderr",
          "output_type": "stream",
          "text": [
            "| train_loss: 1.79e-09 | test_loss: 1.71e-09 | reg: 0.00e+00 | : 100%|█| 50/50 [00:00<00:00, 65.51it"
          ]
        },
        {
          "name": "stdout",
          "output_type": "stream",
          "text": [
            "saving model version 0.7\n"
          ]
        },
        {
          "name": "stderr",
          "output_type": "stream",
          "text": [
            "\n"
          ]
        }
      ],
      "source": [
        "model.fit(dataset, opt=\"LBFGS\", steps=50);"
      ]
    },
    {
      "cell_type": "markdown",
      "metadata": {},
      "source": [
        "**シンボリック回帰の結果を表示**"
      ]
    },
    {
      "cell_type": "code",
      "execution_count": 17,
      "metadata": {},
      "outputs": [
        {
          "data": {
            "text/latex": [
              "$\\displaystyle 1.0 e^{1.0 x_{2}^{2} + 1.0 \\sin{\\left(3.1416 x_{1} \\right)}}$"
            ],
            "text/plain": [
              "1.0*exp(1.0*x_2**2 + 1.0*sin(3.1416*x_1))"
            ]
          },
          "execution_count": 17,
          "metadata": {},
          "output_type": "execute_result"
        }
      ],
      "source": [
        "from kan.utils import ex_round\n",
        "ex_round(model.symbolic_formula()[0][0],4)"
      ]
    },
    {
      "cell_type": "markdown",
      "metadata": {},
      "source": [
        "元の$f(x,y) = \\exp(\\sin(\\pi x) + y^2)$をバッチリ再現している。"
      ]
    }
  ],
  "metadata": {
    "accelerator": "TPU",
    "colab": {
      "authorship_tag": "ABX9TyPpQYMbqGEZMRisgxppnqSm",
      "collapsed_sections": [],
      "include_colab_link": true,
      "name": "Python_chapter_ArtificialNeuralNetwork.ipynb",
      "provenance": []
    },
    "kernelspec": {
      "display_name": "Python 3",
      "name": "python3"
    },
    "language_info": {
      "codemirror_mode": {
        "name": "ipython",
        "version": 3
      },
      "file_extension": ".py",
      "mimetype": "text/x-python",
      "name": "python",
      "nbconvert_exporter": "python",
      "pygments_lexer": "ipython3",
      "version": "3.11.4"
    }
  },
  "nbformat": 4,
  "nbformat_minor": 0
}
