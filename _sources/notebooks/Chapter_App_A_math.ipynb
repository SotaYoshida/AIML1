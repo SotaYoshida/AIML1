{
  "cells": [
    {
      "attachments": {},
      "cell_type": "markdown",
      "metadata": {
        "colab_type": "text",
        "id": "view-in-github"
      },
      "source": [
        "<a href=\"https://colab.research.google.com/github/SotaYoshida/Lecture_DataScience/blob/main/notebooks/Python_chapter_ArtificialNeuralNetwork.ipynb\" target=\"_parent\"><img src=\"https://colab.research.google.com/assets/colab-badge.svg\" alt=\"Open In Colab\"/></a>"
      ]
    },
    {
      "attachments": {},
      "cell_type": "markdown",
      "metadata": {
        "id": "sKor3X3ievgT"
      },
      "source": [
        "# 数学的準備\n",
        "\n",
        "その他、[Mathematics for Machine Learning](https://mml-book.github.io/book/mml-book.pdf)など、適宜文献を参照すること。\n",
        "\n",
        "\n"
      ]
    },
    {
      "cell_type": "markdown",
      "metadata": {},
      "source": [
        "## 線形代数\n",
        "\n",
        "### 線形独立と基底\n",
        "\n",
        "### 行列式\n",
        "\n",
        "### 固有値問題\n",
        "\n"
      ]
    },
    {
      "cell_type": "markdown",
      "metadata": {},
      "source": [
        "## 微分操作と最適化\n",
        "\n",
        "### 数値微分\n",
        "\n",
        "### 多次元の微分\n",
        "\n",
        "### ラグランジュの未定乗数法"
      ]
    },
    {
      "cell_type": "markdown",
      "metadata": {},
      "source": [
        "## 確率と統計\n",
        "\n",
        "### 確率変数と確率分布\n"
      ]
    },
    {
      "cell_type": "markdown",
      "metadata": {},
      "source": [
        "## Notation\n",
        "\n",
        "- $x \\in \\mathbb{R}^n$: $n$次元の実数ベクトル(原則、小文字を用いる)\n",
        "- $A \\in \\mathbb{R}^{n \\times m}$: $n \\times m$行列 (原則、大文字を用いる)\n",
        "- $x_i$: ベクトル$x$の$i$番目の要素\n",
        "- $A_{ij}$: 行列$A$の$i$行$j$列目の要素\n",
        "- $x^T,A^T$: ベクトルや行列の転置(transpose)\n",
        "- $A^{-1}$: 逆行列\n",
        "- $x \\cdot y$: ベクトル$x$と$y$の内積\n",
        "- $A \\odot B$: 行列$A$と$B$のアダマール積\n",
        "- $Ax$: 行列-ベクトル積\n"
      ]
    }
  ],
  "metadata": {
    "accelerator": "TPU",
    "colab": {
      "authorship_tag": "ABX9TyPpQYMbqGEZMRisgxppnqSm",
      "collapsed_sections": [],
      "include_colab_link": true,
      "name": "Python_chapter_ArtificialNeuralNetwork.ipynb",
      "provenance": []
    },
    "kernelspec": {
      "display_name": "Python 3",
      "name": "python3"
    }
  },
  "nbformat": 4,
  "nbformat_minor": 0
}
