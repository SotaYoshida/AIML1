{
  "cells": [
    {
      "cell_type": "markdown",
      "metadata": {
        "id": "Qlp8TMCwqzju"
      },
      "source": [
        "# 回帰の概要"
      ]
    },
    {
      "cell_type": "markdown",
      "metadata": {},
      "source": [
        "この章では、回帰分析のモチベーションについて説明するとともに、必要となる基礎について幾つか語句や表式を整理しておこう。"
      ]
    },
    {
      "attachments": {},
      "cell_type": "markdown",
      "metadata": {
        "id": "jO4b2_In7Cd8"
      },
      "source": [
        "## 回帰分析\n",
        "\n",
        ":::{margin} 回帰\n",
        "回帰分析で用いられる\"回帰\"という用語は、原義とは異なり歴史的な経緯から来ている。\n",
        "詳しくは[Wikipedia](https://ja.wikipedia.org/wiki/回帰分析)に譲る。\n",
        ":::\n",
        "皆さんは普段から「ボールがあのへんに落ちそうだな」「対向車のスピードがそこそこ速いから、いま右折するとぶつかっちゃうな」\n",
        "「株価が予測できれば儲けられそうだな」といった具合に、多かれ少なかれ経験やデータに基づいた予測を行っている。  \n",
        "実生活はもちろん、学術分野や産業界でも日々否応なしにこうした予測の必要に迫られることだろう。\n",
        "たとえばあなたが会社経営者なら「*需要を正しく見積もって、廃棄が出ないように商品を入荷したい*」といったことを考えるはずだ。\n",
        "\n",
        ":::{margin} データのベクトル表記\n",
        "$\\boldsymbol{x}_n,\\boldsymbol{t}_n $は一般に複数成分を持つベクトルのつもりで太字にしてある\n",
        ":::\n",
        "回帰分析の目標は、$N$個の観測点$\\{ \\boldsymbol{x}_n \\} (n=1,\\ldots,N)$と興味のある観測値$\\{\\boldsymbol{t}_n \\}$があったとき\n",
        "未知の点$\\boldsymbol{x}$での値$\\boldsymbol{t}$の値を予測することである。観測点と観測値の例をあげよう。\n",
        "- 観測点/興味のある量ともに1次元の例: 日時におけるある銘柄の株価\n",
        "- 観測点/興味のある量ともに2次元の例: 緯度・経度に対する標高と年間雨量\n",
        "\n",
        "「観測されたデータの振る舞いを説明したり予測したい」「データの背景にある基本原理・物理法則のようなものを明らかにしたい」というのは人間の特性であり知性である。\n",
        "一方で、データの背後にある真の関数や因果関係を知ることは一般には極めて困難(ときには不可能)である。\n",
        "\n",
        "そこで我々人類が取るべき、あるいはこれまで取ってきた戦略は「**なるべく尤もらしいモデルを作って、それを予測に使う**」というものだ。\n",
        "この意味で、回帰によらずデータ分析とは多くの場合「特定のモデル(考え方,立場,仮定, etc.)を採用すること」であり、その選択は必ずしも唯一である必要はない。\n",
        "\n",
        "自然科学の領域で得られるデータというのは(例外はあるが)一般的には再現性が高く、\n",
        "観測・計測からくる誤差などもわりと自然に考慮できるため、回帰分析などの手法を学習・適用する上での教科書的な例と言える。\n",
        "また、特定の観測量に影響を与える量(説明変数)についても予めある程度分かっている場合もある。\n",
        "\n",
        ":::{margin} オームの法則\n",
        "実際には電気抵抗$R$は温度に依存したりするため厳密には定数ではないため、オームの法則という比例関係はあくまで$I,R,V$の関係を(ほとんど)説明する近似に過ぎない。\n",
        ":::\n",
        "一例を挙げよう。「電気回路の2点間の電位差は2点間に流れる電流に比例する」という**オームの法則**は$V = IR$と書くことが出来て\n",
        "「電気抵抗$R$が既知の定数ならば、未知の電流$I'$を流した際の電位差$V'$は$I'R$(+誤差)で与えられるだろう」と予測ができる。\n",
        "このような法則性は人類によって長年蓄積された経験とデータによって\"尤もらしい\"事がわかっているため**法則**として教科書にも載っている。\n",
        "\n",
        "一方で、「各都道府県における感染症Cの罹患人数」「組織における意思決定・取り組みの効果」など社会や経営/組織運営などで得られるデータは、様々な因子が複雑に絡み合っている上に、条件を変えて対照実験を行うといったことが困難なため、前述のようなデータよりも分析の難易度が数段上がる。\n",
        "\n",
        "もし皆さんが「予測」という言葉を見聞きした際に「どのような仮定・モデルをおいているのだろう？」という疑問が思い浮かんだり\n",
        "「完璧なモデルは一般に存在しない」という認識を有していれば、皆さんには既にデータ分析に対する基本的なリテラシーが身についていると言って差し支えないだろう。\n",
        "\n",
        "\n"
      ]
    },
    {
      "cell_type": "markdown",
      "metadata": {},
      "source": [
        "### 単回帰: 1次元の直線回帰\n",
        "\n",
        "もっとも単純な回帰の例としては、上のオームの法則のように、興味のある量(目的変数,従属変数などと呼ぶ)とそれを決定づける量(説明変数,独立変数などと呼ぶ)がそれぞれ1つずつ(単回帰と呼ぶ)で\n",
        "互いに比例関係にあるもの(直線回帰)がある。\n",
        "\n",
        "もしも手元にあるデータが比例関係に従うと仮定すると$t$(目的変数)と$x$(説明変数)の関係は以下のように与えられる:\n",
        "$ t = a x + b$\n",
        "ここで、$a$は$x$と$t$の間の比例係数で$b$(y切片)は比例関係からのずれを表す定数である。\n",
        "\n",
        "\n",
        "例えば以下のようなデータ($x$と$y$)があったとする。"
      ]
    },
    {
      "cell_type": "code",
      "execution_count": 2,
      "metadata": {},
      "outputs": [],
      "source": [
        "import numpy as np\n",
        "x = np.array([0, 20, 40, 60, 80, 100])\n",
        "y = np.array([273.15, 293.15, 313.15, 333.15, 353.15, 373.15])"
      ]
    },
    {
      "cell_type": "markdown",
      "metadata": {},
      "source": [
        "まずplotしてみよう。"
      ]
    },
    {
      "cell_type": "code",
      "execution_count": 3,
      "metadata": {},
      "outputs": [
        {
          "data": {
            "text/plain": [
              "<matplotlib.collections.PathCollection at 0x10d765390>"
            ]
          },
          "execution_count": 3,
          "metadata": {},
          "output_type": "execute_result"
        },
        {
          "data": {
            "image/png": "[encoded data removed]",
            "text/plain": [
              "<Figure size 640x480 with 1 Axes>"
            ]
          },
          "metadata": {},
          "output_type": "display_data"
        }
      ],
      "source": [
        "import matplotlib.pyplot as plt\n",
        "plt.scatter(x, y)   "
      ]
    },
    {
      "cell_type": "markdown",
      "metadata": {},
      "source": [
        "この両者の関係は比例関係にあると言えそうだ。\n",
        "\n",
        "直線の係数$a,b$の\"最適値\"を**最小二乗法**、つまり誤差の二乗和を最小化するように求めることを考える。\n",
        "\n",
        "$$\n",
        "L \\equiv \\sum_{i=1}^n (y_i - (ax_i + b))^2\n",
        "$$\n",
        "\n",
        "これを$a,b$について微分して0とおく(極値を求めるための式を書く)と、\n",
        "$$\n",
        "\\sum_{i=1}^n (y_i - (ax_i + b))x_i = 0 \\\\\n",
        "\\sum_{i=1}^n (y_i - (ax_i + b)) = 0\n",
        "$$\n",
        "となる。これを解くと、\n",
        "$$\n",
        "a = \\frac{\\sum_{i=1}^n (x_i - \\bar{x})(y_i - \\bar{y})}{\\sum_{i=1}^n (x_i - \\bar{x})^2}\\\\\n",
        "b = \\bar{y} - a \\bar{x}\n",
        "$$\n",
        "となる。\n",
        "\n",
        "Exercise: 単回帰分析の係数の最適値を求める式を導出せよ。"
      ]
    },
    {
      "cell_type": "code",
      "execution_count": 5,
      "metadata": {},
      "outputs": [
        {
          "name": "stdout",
          "output_type": "stream",
          "text": [
            "a =  1.0 b =  273.15000000000003\n",
            "a =  0.9999999999999997 b =  273.15000000000003\n"
          ]
        }
      ],
      "source": [
        "def eval_coeff_1d(x, y):\n",
        "    xbar = np.mean(x)\n",
        "    ybar = np.mean(y)\n",
        "    n = len(x)\n",
        "    a = np.sum((x - xbar) * (y - ybar)) / np.sum((x - xbar) ** 2)\n",
        "    b = ybar - a * xbar\n",
        "    return a, b\n",
        "\n",
        "a,b = eval_coeff_1d(x, y)\n",
        "print(\"a = \", a, \"b = \", b)\n",
        "\n",
        "# １次式の最適化を行うpolyfit関数を使う\n",
        "a_np, b_np = np.polyfit(x, y, 1)\n",
        "print(\"a = \", a_np, \"b = \", b_np)\n"
      ]
    },
    {
      "cell_type": "markdown",
      "metadata": {},
      "source": [
        "解答1. \n",
        "\n",
        "$$\n",
        "\\bar{x} = \\sum_{i=1}^n x_i \\\\\n",
        "\\bar{y} = \\sum_{i=1}^n y_i \\\\\n",
        "0 = \\sum_{i=1}^n (y_i - (ax_i + b))  = n \\bar{y} - a n \\bar{x} - b n \n",
        "$$ \n",
        "から\n",
        "$$\n",
        "b = \\bar{y} - a \\bar{x}\n",
        "$$\n",
        "が得られる。次に、1式目を変形していこう。\n",
        "\n",
        "$$\n",
        "\\sum^n_{i=1} ( y_i - \\bar{y} ) x_i + a \\bar{x} x_i -a x^2_i = 0\n",
        "$$\n",
        "\n",
        "$$\n",
        "0 = \\sum_{i=1}^n (y_i x_i - a x^2_i - \\bar{y}x_i + a \\bar{x}x_i) = \n",
        "\\sum_{i=1}^n ( (y_i - \\bar{y})(x_i - \\bar{x}) + \\bar{x}y_i - \\bar{x}\\bar{y} - a (x_i - \\bar{x})^2 )= 0\n",
        "$$\n",
        "ここで、$\\bar{x}y_i - \\bar{x}\\bar{y}$は、和を取ると0になるので\n",
        "$$\n",
        "a = \\frac{\\sum_{i=1}^n ( (y_i - \\bar{y})(x_i - \\bar{x})  }{\\sum^n_{i=1} (x_i - \\bar{x})^2 }\n",
        "$$\n"
      ]
    }
  ],
  "metadata": {
    "colab": {
      "collapsed_sections": [],
      "name": "Python_chapter_Bayesian_linear_regression.ipynb",
      "provenance": []
    },
    "kernelspec": {
      "display_name": "Python 3",
      "name": "python3"
    },
    "language_info": {
      "codemirror_mode": {
        "name": "ipython",
        "version": 3
      },
      "file_extension": ".py",
      "mimetype": "text/x-python",
      "name": "python",
      "nbconvert_exporter": "python",
      "pygments_lexer": "ipython3",
      "version": "3.10.9"
    }
  },
  "nbformat": 4,
  "nbformat_minor": 0
}
