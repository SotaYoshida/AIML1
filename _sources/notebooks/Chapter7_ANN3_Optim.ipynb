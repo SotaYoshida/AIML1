{
  "cells": [
    {
      "cell_type": "markdown",
      "metadata": {
        "colab_type": "text",
        "id": "view-in-github"
      },
      "source": [
        "<a href=\"https://colab.research.google.com/github/SotaYoshida/Lecture_DataScience/blob/main/notebooks/Python_chapter_ArtificialNeuralNetwork.ipynb\" target=\"_parent\"><img src=\"https://colab.research.google.com/assets/colab-badge.svg\" alt=\"Open In Colab\"/></a>"
      ]
    },
    {
      "cell_type": "markdown",
      "metadata": {
        "id": "sKor3X3ievgT"
      },
      "source": [
        "# 最適化理論と種々の最適化手法\n",
        "\n",
        "この章では、最適化理論と種々の最適化手法について学ぶ。"
      ]
    },
    {
      "cell_type": "markdown",
      "metadata": {
        "id": "wOxttwbLdc1E"
      },
      "source": [
        "## 勾配降下法"
      ]
    },
    {
      "cell_type": "markdown",
      "metadata": {
        "id": "nyeC4YIfjnua"
      },
      "source": [
        "勾配降下法とは、目的関数を微分した勾配の値のみを使ってパラメータを更新する方法です。  \n",
        "たとえば,重み$W$の$i$番目を更新する際には  \n",
        "$W_i := W_i - \\eta \\frac{\\partial f}{\\partial W_i}$  \n",
        "とします。($f$は目的関数で、$\\eta$は学習率(パラメータ更新のスケールを決めるパラメータ)です。)"
      ]
    },
    {
      "cell_type": "markdown",
      "metadata": {
        "id": "A3NSz6JulqFB"
      },
      "source": [
        "## Adam"
      ]
    },
    {
      "cell_type": "markdown",
      "metadata": {
        "id": "n0QGVWTmltgl"
      },
      "source": [
        "Adamは、勾配降下法の様にその都度の勾配の情報だけを使うのではなく、\n",
        "以前の勾配の情報も有効活用する手法です。\n",
        "\n",
        "Adamは2014年に提唱された比較的新しい手法で、以降の機械学習の論文では、Adamが最もよく使われています。(*最も\"良い\"という意味では必ずしもありません)"
      ]
    },
    {
      "cell_type": "markdown",
      "metadata": {
        "id": "qMB-1YMwdqij"
      },
      "source": [
        "## 勾配消失問題\n",
        "\n",
        "ニューラルネットワークの学習がうまく進むかどうかは一般に\n",
        "1. ネットワークの構造(アーキテクチャとも言ったりします)や活性化関数(とその微分)の持つ性質\n",
        "2. 最適化手法や手法内のパラメータ\n",
        "3. 重みやバイアスの初期値\n",
        "\n",
        "などに強く依存します。\n",
        "\n",
        "1.に関して   \n",
        "回帰問題における代表的な活性化関数としては\n",
        "最近の傾向として、sigmoidよりも以下のReLU関数が使われることが多いです。  \n",
        "\n",
        "\n",
        "\n",
        "\n"
      ]
    },
    {
      "cell_type": "code",
      "execution_count": 157,
      "metadata": {
        "id": "LKDihzzDT0-H"
      },
      "outputs": [],
      "source": [
        "def relu(z):\n",
        "    return (z > 0)* z   \n",
        "\n",
        "def relu_der(z):\n",
        "     return (z > 0)*1.0 \n",
        "     \n",
        "#いずれも、zが実数値でもnp.array型のベクトルでも対応可能な表式"
      ]
    },
    {
      "cell_type": "code",
      "execution_count": 158,
      "metadata": {
        "colab": {
          "base_uri": "https://localhost:8080/",
          "height": 265
        },
        "id": "M962DFirJgu9",
        "outputId": "ce0db346-fd65-47d4-8fcd-911179489442"
      },
      "outputs": [
        {
          "data": {
            "image/png": "[encoded data removed]",
            "text/plain": [
              "<Figure size 720x288 with 2 Axes>"
            ]
          },
          "metadata": {
            "needs_background": "light"
          },
          "output_type": "display_data"
        }
      ],
      "source": [
        "##適当な区間のxの値を用意する\n",
        "xp = np.linspace(-10.0,10.0,100)\n",
        "yp_sigmoid = sigmoid(xp)\n",
        "yp_relu = relu(xp)\n",
        "\n",
        "fig = plt.figure(figsize=(10,4))\n",
        "ax1 = fig.add_subplot(121)\n",
        "ax1.plot(xp,yp_sigmoid,label=\"Sigmoid\")\n",
        "ax1.legend()\n",
        "ax2 = fig.add_subplot(122)\n",
        "ax2.plot(xp,yp_relu,label=\"ReLU\")\n",
        "ax2.legend()\n",
        "plt.show()\n",
        "plt.close()"
      ]
    },
    {
      "cell_type": "markdown",
      "metadata": {
        "id": "f9ELoAn8hYNr"
      },
      "source": [
        "sigmoid関数はx->+∞で1.0, x=-∞で-1.0に漸近します。\n",
        "\n",
        "一方でReLU関数はx=0までは0.0で、x>0.0で、xとなるような関数です。\n",
        "\n",
        "\n",
        "なぜReLUがよく使われる様になったかと言うと、  \n",
        "(特に隠れ層の数が多い深層学習において)学習するにつれて勾配の値が小さくなって学習が進まない、\n",
        "という問題を解決するためです。\n",
        "\n",
        "それぞれの関数の微分を表示してみると"
      ]
    },
    {
      "cell_type": "code",
      "execution_count": 159,
      "metadata": {
        "colab": {
          "base_uri": "https://localhost:8080/",
          "height": 265
        },
        "id": "dj-P7bDfvYpr",
        "outputId": "c8bf0288-f777-4bb1-efb2-d1546c867027"
      },
      "outputs": [
        {
          "data": {
            "image/png": "[encoded data removed]",
            "text/plain": [
              "<Figure size 720x288 with 2 Axes>"
            ]
          },
          "metadata": {
            "needs_background": "light"
          },
          "output_type": "display_data"
        }
      ],
      "source": [
        "xp = np.linspace(-10.0,10.0,100)\n",
        "yp_sigmoid = sigmoid_der(xp)\n",
        "yp_relu = relu_der(xp)\n",
        "\n",
        "fig = plt.figure(figsize=(10,4))\n",
        "ax1 = fig.add_subplot(121)\n",
        "ax1.plot(xp,yp_sigmoid,label=\"Sigmoid\")\n",
        "ax1.legend()\n",
        "ax2 = fig.add_subplot(122)\n",
        "ax2.plot(xp,yp_relu,label=\"ReLU\")\n",
        "ax2.legend()\n",
        "plt.show()\n",
        "plt.close()"
      ]
    },
    {
      "cell_type": "markdown",
      "metadata": {
        "id": "B0FHTFBwvtLP"
      },
      "source": [
        "sigmoid関数は微分の値が最大で0.25なのに対して、ReLU関数では最大1.0となるため勾配の消失が起こりにくいのです。"
      ]
    },
    {
      "cell_type": "markdown",
      "metadata": {
        "id": "PiFx3X4xJd7V"
      },
      "source": [
        "問題ごとに何が最適なネットワーク構造だったり活性化関数なのかは、  \n",
        "予め分かることはなく、試行錯誤が必要です。  \n",
        "ここまでこの授業で勉強してきた皆さんは既に、  \n",
        "「この試行錯誤自体を人力ではなくコンピュータにやらせる方法はないか」という点に思い至るのではないでしょうか?\n",
        "\n",
        "これに関連したお話はベイズ最適化の回で説明します。"
      ]
    },
    {
      "cell_type": "markdown",
      "metadata": {
        "id": "hpVMAFUiwUtT"
      },
      "source": [
        "3.に関して\n",
        "\n",
        "また、ネットワークの重みやバイアスをどのような値から始めるかに学習が依存する場合もあります。\n",
        "\n",
        "というのも、今考えた３層のニューラルネットワークでは、  \n",
        "重み$W$の学習に使う勾配の表式は、$V$に比例しています。\n",
        "\n",
        "したがって単純に勾配の情報のみを使う最適化手法では、  \n",
        "$V$の初期値を0に取ったり、学習の過程で偶然$V$の値が0に近くなってしまうと、  \n",
        "$V$が更新されノンゼロの値を持つまで$W$の学習は始まりません。\n",
        "\n",
        "どのような初期値を採用するべきかに関しても、予め知ることは一般にはできませんが、  \n",
        "いくつかの特定の場合に関して、推奨される方法というのは存在しています。\n",
        "\n",
        "例: ReLU関数を活性化関数に使うときはHeの初期値というものが推奨されている"
      ]
    }
  ],
  "metadata": {
    "accelerator": "TPU",
    "colab": {
      "authorship_tag": "ABX9TyPpQYMbqGEZMRisgxppnqSm",
      "collapsed_sections": [],
      "include_colab_link": true,
      "name": "Python_chapter_ArtificialNeuralNetwork.ipynb",
      "provenance": []
    },
    "kernelspec": {
      "display_name": "Python 3",
      "name": "python3"
    }
  },
  "nbformat": 4,
  "nbformat_minor": 0
}
