{
  "cells": [
    {
      "cell_type": "markdown",
      "metadata": {
        "id": "Qlp8TMCwqzju"
      },
      "source": [
        "# 多クラス分類\n"
      ]
    },
    {
      "cell_type": "markdown",
      "metadata": {},
      "source": [
        "\n",
        "この章では、一つ前の二値分類を拡張し、多クラス分類について説明する。\n",
        "\n",
        "多クラス分類とは、分類タスクにおいて、2つ以上のクラスに対して予測を行うことである。\n",
        "\n",
        "二項分類が2つのクラス（例：正/負、0/1）に対する予測だけを行うのに対し、\n",
        "多クラス分類は3つ以上の異なるクラスに対して予測を行う。手書き文字認識や画像分類など、多くの応用例がある。\n",
        "\n",
        "例えば手書き文字の画像を与えて、画像の中で描かれている数字が0~9のいずれかを判定する場合はクラスの数は１０になり、\n",
        "一般の写真を見せて写っているものが何か分類する際には、分類したい項目の数を指定する必要がある。\n",
        "したがって、クラスの数については一般に問題ごとに変わり得る。そこで、以下では、できるだけクラスの数を$N$と一般化して議論することにしよう。\n"
      ]
    },
    {
      "cell_type": "markdown",
      "metadata": {},
      "source": [
        "## \"多クラス\"の扱い方\n",
        "\n",
        "まずは、特定のデータについて、どのように\"多クラス\"を扱うかを考えてみよう。\n",
        "\n",
        "- **入力**: $D$次元のベクトル$\\boldsymbol{x} \\in \\mathbb{R}^D$とする。例えば画像データならピクセル値を並べたベクトルなどになる。\n",
        "- **クラス(またはカテゴリやラベル)**: 分類の候補。集合であることを明示して$\\mathcal{C} = \\{C_1,C_2,...,C_K\\}$と書くことにする。$K$は分類先のクラスの数。\n",
        "    >例えば果物について分類する場合、$\\mathcal{C}=\\{ \\mathrm{りんご},\\mathrm{みかん},\\mathrm{バナナ},...\\}$といったイメージ。\n",
        "- **出力**: $K$次元のベクトル$\\hat{\\boldsymbol{y}}$とする。$K$個のクラスそれぞれに対応する要素が、そのクラスに属する確率を表す。\n",
        "    >例えば、$K=3$の場合、$\\boldsymbol{y}=(0.2, 0.5, 0.3)$というベクトルは、3つのクラスそれぞれに対応する要素が、それぞれ0.2, 0.5, 0.3という確率を表す。この場合、0.5が最も大きいので、このデータは2番目のクラスに属すると予測される。\n",
        "\n",
        "以降では、データの真の分類を$y$と書き、何らかのモデルによる分類の予測には$\\hat{\\boldsymbol{y}}$という記号を使うことにする。"
      ]
    },
    {
      "cell_type": "markdown",
      "metadata": {},
      "source": [
        "## 線形多クラス分類　\n",
        "\n",
        "線形二値分類を拡張して多クラス分類を考えてみよう。\n",
        "多クラス分類では、各クラスに対してスコアを計算し、その中で最も高いスコアを持つクラスを予測値とする。\n",
        "\n",
        "$$\n",
        "\\hat{y} = \\mathop{\\rm argmax}\\limits_{y \\in \\mathcal{C}} \\boldsymbol{w}_y^T \\boldsymbol{x} \n",
        "$$\n",
        "\n",
        "ここで、各クラス$y$に対応する重みベクトルを$\\boldsymbol{w}_y$とした。この式は、入力$\\boldsymbol{x}$に対して、各クラスに対応する重みベクトルとの内積を計算し、最大となるクラスを予測するというものである。\n",
        "\n",
        "線形二値分類の場合と同様、重み$\\boldsymbol{w}_y$は、そのクラスに属するデータを正しく分類できるように学習(調整)する。\n",
        "\n",
        "\n",
        "より具体的な手続きとしてよく用いられるのが、多クラスロジスティック回帰やsoftmax回帰などとも呼ばれる以下の方法である。\n",
        "\n",
        "まず、softmax関数を以下のように定義しておこう:\n",
        "\n",
        "$$\n",
        "\\text{softmax}(\\boldsymbol{z})_i = \\frac{e^{z_i}}{\\sum_{j=1}^{K} e^{z_j}} \\quad \\text{for } i = 1, 2, ..., K\n",
        "$$\n",
        "\n",
        "つまり、$K$個の入力 (あるいはベクトル $\\boldsymbol{z}$) を受取り、各要素が0から1の範囲にあり、全体で1になるような離散的な確率分布を出力する関数である。\n",
        "\n",
        "なんのことはない、指数関数をとって正規化しているだけで以下のように簡単に実装もできる。\n",
        "※本当は、オーバーフローの対策なども必要だが、ここでは省略した。"
      ]
    },
    {
      "cell_type": "code",
      "execution_count": 1,
      "metadata": {},
      "outputs": [],
      "source": [
        "import numpy as np \n",
        "def softmax(z): #naiveな実装\n",
        "    return np.exp(z) / np.sum(np.exp(z))"
      ]
    },
    {
      "cell_type": "markdown",
      "metadata": {},
      "source": [
        "これに何らかのベクトルを入力して、出力をプロットしてみよう。"
      ]
    },
    {
      "cell_type": "code",
      "execution_count": 2,
      "metadata": {},
      "outputs": [
        {
          "data": {
            "text/plain": [
              "Text(0, 0.5, 'Probability for each class')"
            ]
          },
          "execution_count": 2,
          "metadata": {},
          "output_type": "execute_result"
        },
        {
          "data": {
            "image/png": "[encoded data removed]",
            "text/plain": [
              "<Figure size 1200x400 with 2 Axes>"
            ]
          },
          "metadata": {},
          "output_type": "display_data"
        }
      ],
      "source": [
        "from matplotlib import pyplot as plt\n",
        "\n",
        "np.random.seed(0)\n",
        "z_in = np.random.randn(10)\n",
        "z_out = softmax( z_in )\n",
        "\n",
        "fig = plt.figure(figsize=(12,4))\n",
        "axL = fig.add_subplot(1,2,1)\n",
        "axR = fig.add_subplot(1,2,2)\n",
        "axL.bar(np.arange(len(z_in)), z_in)\n",
        "axL.set_title('Input to softmax function')\n",
        "axL.set_xlabel('Index of input')\n",
        "axL.set_ylabel('Value of input')\n",
        "axR.bar(np.arange(len(z_out)), z_out)\n",
        "axR.set_title('Softmax function output')\n",
        "axR.set_xlabel('Index for each class')\n",
        "axR.set_ylabel('Probability for each class')"
      ]
    },
    {
      "cell_type": "markdown",
      "metadata": {},
      "source": [
        "\n",
        "\n",
        "0~9の手書き数字の画像データセット(MNIST)を用いて、ソフトマックス回帰を実装してみた。\n",
        "※学習が効率的に進むよう、PyTorchを用いて線形層とソフトマックス関数を使った実装にしてある。"
      ]
    },
    {
      "cell_type": "code",
      "execution_count": 3,
      "metadata": {
        "tags": [
          "hide-input"
        ]
      },
      "outputs": [
        {
          "name": "stdout",
          "output_type": "stream",
          "text": [
            "Epoch 1/10, Loss: 0.6793\n",
            "Epoch 2/10, Loss: 0.3839\n",
            "Epoch 3/10, Loss: 0.3518\n",
            "Epoch 4/10, Loss: 0.3462\n",
            "Epoch 5/10, Loss: 0.3360\n",
            "Epoch 6/10, Loss: 0.3366\n",
            "Epoch 7/10, Loss: 0.3293\n",
            "Epoch 8/10, Loss: 0.3206\n",
            "Epoch 9/10, Loss: 0.3195\n",
            "Epoch 10/10, Loss: 0.3174\n",
            "Test Accuracy: 91.09%\n"
          ]
        },
        {
          "data": {
            "image/png": "[encoded data removed]",
            "text/plain": [
              "<Figure size 1500x200 with 10 Axes>"
            ]
          },
          "metadata": {},
          "output_type": "display_data"
        },
        {
          "name": "stdout",
          "output_type": "stream",
          "text": [
            "Pred.: 予測, True: 正解\n"
          ]
        }
      ],
      "source": [
        "import torch\n",
        "import torch.nn as nn\n",
        "import torch.optim as optim\n",
        "import torchvision\n",
        "import torchvision.transforms as transforms\n",
        "import matplotlib.pyplot as plt\n",
        "\n",
        "# 1. データセットの準備 (MNIST, 28x28 画像, 0~9 のラベル)\n",
        "transform = transforms.Compose([transforms.ToTensor(),  # 画像をTensor化\n",
        "                                transforms.Normalize((0.5,), (0.5,))])  # 正規化\n",
        "\n",
        "trainset = torchvision.datasets.MNIST(root=\"./data\", train=True,\n",
        "                                      download=True, transform=transform)\n",
        "trainloader = torch.utils.data.DataLoader(trainset, batch_size=64, shuffle=True)\n",
        "\n",
        "testset = torchvision.datasets.MNIST(root=\"./data\", train=False,\n",
        "                                     download=True, transform=transform)\n",
        "testloader = torch.utils.data.DataLoader(testset, batch_size=1000, shuffle=False)\n",
        "\n",
        "# 2. Softmax回帰モデル (線形層のみ)\n",
        "class SoftmaxRegression(nn.Module):\n",
        "    def __init__(self):\n",
        "        super().__init__()\n",
        "        self.linear = nn.Linear(28*28, 10)  # 784次元 → 10クラス\n",
        "\n",
        "    def forward(self, x):\n",
        "        x = x.view(-1, 28*28)  # (batch, 1, 28, 28) → (batch, 784)\n",
        "        return self.linear(x)  # Softmaxは損失関数に含まれる\n",
        "\n",
        "model = SoftmaxRegression()\n",
        "\n",
        "# 3. 損失関数と最適化手法\n",
        "criterion = nn.CrossEntropyLoss()  # Softmax + CrossEntropy\n",
        "optimizer = optim.SGD(model.parameters(), lr=0.1)\n",
        "\n",
        "# 4. 学習ループ\n",
        "epochs = 10\n",
        "for epoch in range(epochs):\n",
        "    running_loss = 0.0\n",
        "    for images, labels in trainloader:\n",
        "        optimizer.zero_grad()\n",
        "        outputs = model(images)\n",
        "        loss = criterion(outputs, labels)\n",
        "        loss.backward()\n",
        "        optimizer.step()\n",
        "        running_loss += loss.item()\n",
        "\n",
        "    print(f\"Epoch {epoch+1}/{epochs}, Loss: {running_loss/len(trainloader):.4f}\")\n",
        "\n",
        "# 5. テスト精度の評価\n",
        "correct = 0\n",
        "total = 0\n",
        "with torch.no_grad():\n",
        "    for images, labels in testloader:\n",
        "        outputs = model(images)\n",
        "        _, predicted = torch.max(outputs, 1)\n",
        "        total += labels.size(0)\n",
        "        correct += (predicted == labels).sum().item()\n",
        "\n",
        "print(f\"Test Accuracy: {100 * correct / total:.2f}%\")\n",
        "\n",
        "# 6. いくつかのテストデータで予測を表示\n",
        "dataiter = iter(testloader)\n",
        "images, labels = next(dataiter)\n",
        "\n",
        "# モデルの予測\n",
        "outputs = model(images)\n",
        "_, predicted = torch.max(outputs, 1)\n",
        "\n",
        "# 最初の10枚を表示\n",
        "fig, axes = plt.subplots(1, 10, figsize=(15, 2))\n",
        "for i in range(10):\n",
        "    axes[i].imshow(images[i].squeeze(), cmap=\"gray\")\n",
        "    axes[i].set_title(f\"Pred.:{predicted[i].item()}\\nTrue:{labels[i].item()}\")\n",
        "    axes[i].axis(\"off\")\n",
        "plt.show()\n",
        "print(\"Pred.: 予測, True: 正解\")\n"
      ]
    },
    {
      "cell_type": "markdown",
      "metadata": {},
      "source": [
        "### **$\\clubsuit$ コードでやっていることの解説**\n",
        "\n",
        "この箇所は、ニューラルネットワークの章の学習後に読むと理解が深まるように思う。\n",
        "\n",
        "上の実装では、PyTorchの`nn.Linear`クラスを用いて線形変換を行い、その後に`nn.Softmax`クラスを用いてソフトマックス関数を適用している。\n",
        "内部的にやっていることをもう少し式で書き下してみよう。\n",
        "\n",
        "1. まず入力画像は、適当な前処理を行った後、1次元のベクトルに変換されているとする。\n",
        "   例えば、28x28ピクセルのグレースケール画像なら、784次元のベクトルになる。\n",
        "   これを$\\boldsymbol{x} \\in \\mathbb{R}^{784}$と書くことにする。\n",
        "\n",
        "   実際には、画像が複数あるので$\\boldsymbol{x}^{(i)}$と$i$番目の画像を表すことにする。\n",
        "\n",
        "2. 次に、線形変換を行う。PyTorchの`nn.Linear`クラスは、重み行列$\\boldsymbol{W} \\in \\mathbb{R}^{K \\times D}$とバイアスベクトル$\\boldsymbol{b} \\in \\mathbb{R}^{K}$を持っており、入力$\\boldsymbol{x}^{(i)}$に対して以下のような線形変換を行う。\n",
        "\n",
        "   $$\n",
        "   \\boldsymbol{z}^{(i)} = \\boldsymbol{W} \\boldsymbol{x}^{(i)} + \\boldsymbol{b}\n",
        "   $$\n",
        "   \n",
        "   ここで、$K$はクラスの数（例えば、手書き数字なら10）、$D$は入力ベクトルの次元数（例えば、784）である。\n",
        "\n",
        "3. 最後に、ソフトマックス関数を適用して、各クラスに対する確率を計算する。\n",
        "\n",
        "   $$\n",
        "   \\hat{\\boldsymbol{y}}^{(i)} = \\text{softmax}(\\boldsymbol{z}^{(i)})\n",
        "   $$\n",
        "\n",
        "   これにより、$\\hat{\\boldsymbol{y}}^{(i)}$は各クラスに対する確率を表すベクトルとなる。\n",
        "\n",
        "4. 学習の際には、交差エントロピー損失関数を用いて、予測$\\hat{\\boldsymbol{y}}^{(i)}$と真のラベル$\\boldsymbol{y}^{(i)}$との誤差を計算し、その誤差を最小化するように重み$\\boldsymbol{W}$とバイアス$\\boldsymbol{b}$を更新する。\n",
        "\n",
        "    $$\n",
        "      \\mathcal{L} = -\\sum_{i=1}^{N} \\sum_{k=1}^{K} y_k^{(i)} \\log(\\hat{y}_k^{(i)})\n",
        "    $$\n",
        "\n",
        "    ここで、$N$はデータの総数、$y_k^{(i)}$は$i$番目のデータがクラス$k$に属する場合に1、それ以外の場合に0となる真のラベルである。$y_k^{(i)} = (0, 0, 1, 0, ..., 0)^T$のようなone-hotベクトルで表すことができる。\n",
        "\n",
        "5. 各学習ステップで、ミニバッチのデータに対して上記の損失関数を計算し、勾配降下法を用いてパラメータを更新した。\n",
        "   ミニバッチとは、学習や推論を効率よく行うために、データセットを小さなグループ（バッチ）に分割して処理する手法で、上では訓練データのバッチサイズを64に設定している。"
      ]
    }
  ],
  "metadata": {
    "colab": {
      "collapsed_sections": [],
      "name": "Python_chapter_Bayesian_linear_regression.ipynb",
      "provenance": []
    },
    "kernelspec": {
      "display_name": "my_python3_env_forQC (3.13.5)",
      "language": "python",
      "name": "python3"
    },
    "language_info": {
      "codemirror_mode": {
        "name": "ipython",
        "version": 3
      },
      "file_extension": ".py",
      "mimetype": "text/x-python",
      "name": "python",
      "nbconvert_exporter": "python",
      "pygments_lexer": "ipython3",
      "version": "3.13.5"
    }
  },
  "nbformat": 4,
  "nbformat_minor": 0
}
